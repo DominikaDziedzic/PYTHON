{
 "cells": [
  {
   "cell_type": "code",
   "execution_count": 4,
   "id": "b039309f-2522-48a1-8cdd-a6834d661cfb",
   "metadata": {},
   "outputs": [
    {
     "name": "stdout",
     "output_type": "stream",
     "text": [
      "Requirement already satisfied: selenium in c:\\users\\domin\\anaconda3\\lib\\site-packages (4.27.1)\n",
      "Requirement already satisfied: beautifulsoup4 in c:\\users\\domin\\anaconda3\\lib\\site-packages (4.12.2)\n",
      "Requirement already satisfied: pandas in c:\\users\\domin\\anaconda3\\lib\\site-packages (2.1.4)\n",
      "Requirement already satisfied: matplotlib in c:\\users\\domin\\anaconda3\\lib\\site-packages (3.8.0)\n",
      "Requirement already satisfied: urllib3<3,>=1.26 in c:\\users\\domin\\anaconda3\\lib\\site-packages (from urllib3[socks]<3,>=1.26->selenium) (2.2.3)\n",
      "Requirement already satisfied: trio~=0.17 in c:\\users\\domin\\anaconda3\\lib\\site-packages (from selenium) (0.27.0)\n",
      "Requirement already satisfied: trio-websocket~=0.9 in c:\\users\\domin\\anaconda3\\lib\\site-packages (from selenium) (0.11.1)\n",
      "Requirement already satisfied: certifi>=2021.10.8 in c:\\users\\domin\\anaconda3\\lib\\site-packages (from selenium) (2024.8.30)\n",
      "Requirement already satisfied: typing_extensions~=4.9 in c:\\users\\domin\\anaconda3\\lib\\site-packages (from selenium) (4.12.2)\n",
      "Requirement already satisfied: websocket-client~=1.8 in c:\\users\\domin\\anaconda3\\lib\\site-packages (from selenium) (1.8.0)\n",
      "Requirement already satisfied: soupsieve>1.2 in c:\\users\\domin\\anaconda3\\lib\\site-packages (from beautifulsoup4) (2.5)\n",
      "Requirement already satisfied: numpy<2,>=1.23.2 in c:\\users\\domin\\anaconda3\\lib\\site-packages (from pandas) (1.26.4)\n",
      "Requirement already satisfied: python-dateutil>=2.8.2 in c:\\users\\domin\\anaconda3\\lib\\site-packages (from pandas) (2.8.2)\n",
      "Requirement already satisfied: pytz>=2020.1 in c:\\users\\domin\\anaconda3\\lib\\site-packages (from pandas) (2023.3.post1)\n",
      "Requirement already satisfied: tzdata>=2022.1 in c:\\users\\domin\\anaconda3\\lib\\site-packages (from pandas) (2023.3)\n",
      "Requirement already satisfied: contourpy>=1.0.1 in c:\\users\\domin\\anaconda3\\lib\\site-packages (from matplotlib) (1.2.0)\n",
      "Requirement already satisfied: cycler>=0.10 in c:\\users\\domin\\anaconda3\\lib\\site-packages (from matplotlib) (0.11.0)\n",
      "Requirement already satisfied: fonttools>=4.22.0 in c:\\users\\domin\\anaconda3\\lib\\site-packages (from matplotlib) (4.25.0)\n",
      "Requirement already satisfied: kiwisolver>=1.0.1 in c:\\users\\domin\\anaconda3\\lib\\site-packages (from matplotlib) (1.4.4)\n",
      "Requirement already satisfied: packaging>=20.0 in c:\\users\\domin\\anaconda3\\lib\\site-packages (from matplotlib) (23.1)\n",
      "Requirement already satisfied: pillow>=6.2.0 in c:\\users\\domin\\anaconda3\\lib\\site-packages (from matplotlib) (10.2.0)\n",
      "Requirement already satisfied: pyparsing>=2.3.1 in c:\\users\\domin\\anaconda3\\lib\\site-packages (from matplotlib) (3.0.9)\n",
      "Requirement already satisfied: six>=1.5 in c:\\users\\domin\\anaconda3\\lib\\site-packages (from python-dateutil>=2.8.2->pandas) (1.16.0)\n",
      "Requirement already satisfied: attrs>=23.2.0 in c:\\users\\domin\\anaconda3\\lib\\site-packages (from trio~=0.17->selenium) (24.2.0)\n",
      "Requirement already satisfied: sortedcontainers in c:\\users\\domin\\anaconda3\\lib\\site-packages (from trio~=0.17->selenium) (2.4.0)\n",
      "Requirement already satisfied: idna in c:\\users\\domin\\anaconda3\\lib\\site-packages (from trio~=0.17->selenium) (3.10)\n",
      "Requirement already satisfied: outcome in c:\\users\\domin\\anaconda3\\lib\\site-packages (from trio~=0.17->selenium) (1.3.0.post0)\n",
      "Requirement already satisfied: sniffio>=1.3.0 in c:\\users\\domin\\anaconda3\\lib\\site-packages (from trio~=0.17->selenium) (1.3.1)\n",
      "Requirement already satisfied: cffi>=1.14 in c:\\users\\domin\\anaconda3\\lib\\site-packages (from trio~=0.17->selenium) (1.17.1)\n",
      "Requirement already satisfied: wsproto>=0.14 in c:\\users\\domin\\anaconda3\\lib\\site-packages (from trio-websocket~=0.9->selenium) (1.2.0)\n",
      "Requirement already satisfied: pysocks!=1.5.7,<2.0,>=1.5.6 in c:\\users\\domin\\anaconda3\\lib\\site-packages (from urllib3[socks]<3,>=1.26->selenium) (1.7.1)\n",
      "Requirement already satisfied: pycparser in c:\\users\\domin\\anaconda3\\lib\\site-packages (from cffi>=1.14->trio~=0.17->selenium) (2.22)\n",
      "Requirement already satisfied: h11<1,>=0.9.0 in c:\\users\\domin\\anaconda3\\lib\\site-packages (from wsproto>=0.14->trio-websocket~=0.9->selenium) (0.14.0)\n",
      "Note: you may need to restart the kernel to use updated packages.\n"
     ]
    }
   ],
   "source": [
    "pip install selenium beautifulsoup4 pandas matplotlib"
   ]
  },
  {
   "cell_type": "code",
   "execution_count": 5,
   "id": "ec7fdc36-c462-44e8-8756-7946f9ffaf03",
   "metadata": {},
   "outputs": [],
   "source": [
    "# Import all required libraries\n",
    "from selenium import webdriver\n",
    "from selenium.webdriver import Chrome\n",
    "from selenium.webdriver.chrome.service import Service\n",
    "import time\n",
    "import os\n",
    "from selenium.webdriver.common.by import By"
   ]
  },
  {
   "cell_type": "code",
   "execution_count": 6,
   "id": "ef2b8cdc-6973-40bf-955a-80501a05fa17",
   "metadata": {},
   "outputs": [
    {
     "name": "stdout",
     "output_type": "stream",
     "text": [
      "Loading page 1 for position data analyst...\n",
      "Loading page 2 for position data analyst...\n",
      "Loading page 3 for position data analyst...\n",
      "Loading page 4 for position data analyst...\n",
      "Loading page 5 for position data analyst...\n",
      "Loading page 6 for position data analyst...\n",
      "Loading page 7 for position data analyst...\n",
      "Loading page 8 for position data analyst...\n",
      "Loading page 9 for position data analyst...\n",
      "Loading page 10 for position data analyst...\n",
      "Loading page 11 for position data analyst...\n",
      "No offers on the page 11. Completed.\n",
      "Loading page 1 for position data scientist...\n",
      "Loading page 2 for position data scientist...\n",
      "Loading page 3 for position data scientist...\n",
      "Loading page 4 for position data scientist...\n",
      "Loading page 5 for position data scientist...\n",
      "Loading page 6 for position data scientist...\n",
      "No offers on the page 6. Completed.\n",
      "Loading page 1 for position data engineer...\n",
      "Loading page 2 for position data engineer...\n",
      "Loading page 3 for position data engineer...\n",
      "Loading page 4 for position data engineer...\n",
      "Loading page 5 for position data engineer...\n",
      "Loading page 6 for position data engineer...\n",
      "No offers on the page 6. Completed.\n"
     ]
    }
   ],
   "source": [
    "# Folder for saving data\n",
    "RAW_DATA_FOLDER = r\"..\\data\\raw\"\n",
    "os.makedirs(RAW_DATA_FOLDER, exist_ok=True)\n",
    "\n",
    "# Function that gets HTML code\n",
    "def fetch_html(job_name, page_number):\n",
    "    url = f'https://it.pracuj.pl/praca/{job_name.replace(\" \", \"%20\")};kw?pn={page_number}'\n",
    "    driver_path = r\"..\\drivers\\chromedriver.exe\"\n",
    "    service = Service(driver_path)\n",
    "    driver = webdriver.Chrome(service=service)\n",
    "    driver.get(url)\n",
    "    time.sleep(2)\n",
    "    try:\n",
    "        # Click to accept cookies\n",
    "        accept_button = driver.find_element(By.CSS_SELECTOR, \"button[data-test='button-submitCookie']\")\n",
    "        accept_button.click()\n",
    "        time.sleep(1)\n",
    "    except:\n",
    "        pass\n",
    "    html = driver.page_source\n",
    "    driver.quit()\n",
    "    return html\n",
    "\n",
    "# # Function that saves HTML code\n",
    "def save_html(job_name, page_number, html):\n",
    "    file_name = os.path.join(RAW_DATA_FOLDER, f'{job_name}_{page_number}.html')\n",
    "    with open(file_name, 'w', encoding='utf-8') as file:\n",
    "        file.write(html)\n",
    "\n",
    "# Function that iteratively fetches all pages\n",
    "def scrape_job_offers(job_name):\n",
    "    page_number = 1\n",
    "    while True:\n",
    "        print(f\"Loading page {page_number} for position {job_name}...\")\n",
    "        html = fetch_html(job_name, page_number)\n",
    "        save_html(job_name, page_number, html)\n",
    "        if '<div class=\"tiles_cobg3mp\"><a class=\"tiles_cnb3rfy core_n194fgoq\"' not in html:\n",
    "        # Ending the function if the element does not exist\n",
    "            print(f\"No offers on the page {page_number}. Completed.\")\n",
    "            break\n",
    "        page_number += 1\n",
    "        time.sleep(5)\n",
    "\n",
    "# Starting the process for three positions\n",
    "for job in [\"data analyst\", \"data scientist\", \"data engineer\"]:\n",
    "    scrape_job_offers(job)"
   ]
  },
  {
   "cell_type": "code",
   "execution_count": null,
   "id": "d2a782fd-cd18-410b-8d0b-02953e065e1b",
   "metadata": {},
   "outputs": [],
   "source": []
  }
 ],
 "metadata": {
  "kernelspec": {
   "display_name": "Python 3 (ipykernel)",
   "language": "python",
   "name": "python3"
  },
  "language_info": {
   "codemirror_mode": {
    "name": "ipython",
    "version": 3
   },
   "file_extension": ".py",
   "mimetype": "text/x-python",
   "name": "python",
   "nbconvert_exporter": "python",
   "pygments_lexer": "ipython3",
   "version": "3.11.7"
  }
 },
 "nbformat": 4,
 "nbformat_minor": 5
}
